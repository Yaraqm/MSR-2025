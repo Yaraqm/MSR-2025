{
  "cells": [
    {
      "cell_type": "code",
      "execution_count": null,
      "id": "57681512",
      "metadata": {
        "_cell_guid": "b1076dfc-b9ad-4769-8c92-a6c4dae69d19",
        "_uuid": "8f2839f25d086af736a60e9eeb907d3b93b6e0e5",
        "execution": {
          "iopub.execute_input": "2024-06-17T23:55:10.724754Z",
          "iopub.status.busy": "2024-06-17T23:55:10.724325Z",
          "iopub.status.idle": "2024-06-17T23:55:11.535256Z",
          "shell.execute_reply": "2024-06-17T23:55:11.534221Z"
        },
        "papermill": {
          "duration": 0.819224,
          "end_time": "2024-06-17T23:55:11.537334",
          "exception": false,
          "start_time": "2024-06-17T23:55:10.718110",
          "status": "completed"
        },
        "tags": [],
        "id": "57681512",
        "outputId": "98ae1486-b76f-4dcc-b34f-6611c8c6a483"
      },
      "outputs": [
        {
          "name": "stdout",
          "output_type": "stream",
          "text": [
            "/kaggle/input/trainingset/train.csv\n",
            "/kaggle/input/testwork/train.csv\n"
          ]
        }
      ],
      "source": [
        "import numpy as np # linear algebra\n",
        "import pandas as pd # data processing, CSV file I/O (e.g. pd.read_csv)\n",
        "\n",
        "import os\n",
        "for dirname, _, filenames in os.walk('/kaggle/input'):\n",
        "    for filename in filenames:\n",
        "        print(os.path.join(dirname, filename))"
      ]
    },
    {
      "cell_type": "code",
      "execution_count": null,
      "id": "508a2c0d",
      "metadata": {
        "execution": {
          "iopub.execute_input": "2024-06-17T23:55:11.547280Z",
          "iopub.status.busy": "2024-06-17T23:55:11.546573Z",
          "iopub.status.idle": "2024-06-17T23:59:00.902339Z",
          "shell.execute_reply": "2024-06-17T23:59:00.901106Z"
        },
        "papermill": {
          "duration": 229.36353,
          "end_time": "2024-06-17T23:59:00.905068",
          "exception": false,
          "start_time": "2024-06-17T23:55:11.541538",
          "status": "completed"
        },
        "tags": [],
        "id": "508a2c0d"
      },
      "outputs": [],
      "source": [
        "import os\n",
        "!pip install -U autotrain-advanced > install_logs.txt\n",
        "!autotrain setup --colab > setup_logs.txt"
      ]
    },
    {
      "cell_type": "code",
      "execution_count": null,
      "id": "984e58d0",
      "metadata": {
        "execution": {
          "iopub.execute_input": "2024-06-17T23:59:00.915139Z",
          "iopub.status.busy": "2024-06-17T23:59:00.914804Z",
          "iopub.status.idle": "2024-06-17T23:59:09.930540Z",
          "shell.execute_reply": "2024-06-17T23:59:09.929573Z"
        },
        "papermill": {
          "duration": 9.023415,
          "end_time": "2024-06-17T23:59:09.932899",
          "exception": false,
          "start_time": "2024-06-17T23:59:00.909484",
          "status": "completed"
        },
        "tags": [],
        "id": "984e58d0",
        "outputId": "4bccc6f6-61fe-47fc-a521-cb9299942874"
      },
      "outputs": [
        {
          "name": "stdout",
          "output_type": "stream",
          "text": [
            "\u001b[1mINFO    \u001b[0m | \u001b[32m2024-06-17 23:59:08\u001b[0m | \u001b[36mautotrain.cli.run_setup\u001b[0m:\u001b[36mrun\u001b[0m:\u001b[36m43\u001b[0m - \u001b[1mInstalling latest xformers\u001b[0m\r\n",
            "\u001b[1mINFO    \u001b[0m | \u001b[32m2024-06-17 23:59:08\u001b[0m | \u001b[36mautotrain.cli.run_setup\u001b[0m:\u001b[36mrun\u001b[0m:\u001b[36m45\u001b[0m - \u001b[1mSuccessfully installed latest xformers\u001b[0m\r\n"
          ]
        }
      ],
      "source": [
        "!autotrain setup"
      ]
    },
    {
      "cell_type": "code",
      "execution_count": null,
      "id": "ff652968",
      "metadata": {
        "execution": {
          "iopub.execute_input": "2024-06-17T23:59:09.943816Z",
          "iopub.status.busy": "2024-06-17T23:59:09.943100Z",
          "iopub.status.idle": "2024-06-17T23:59:09.947593Z",
          "shell.execute_reply": "2024-06-17T23:59:09.946767Z"
        },
        "papermill": {
          "duration": 0.0121,
          "end_time": "2024-06-17T23:59:09.949564",
          "exception": false,
          "start_time": "2024-06-17T23:59:09.937464",
          "status": "completed"
        },
        "tags": [],
        "id": "ff652968"
      },
      "outputs": [],
      "source": [
        "project_name = 'finetunellama'\n",
        "model_name = 'meta-llama/Llama-2-7b'"
      ]
    },
    {
      "cell_type": "code",
      "execution_count": null,
      "id": "cd16f708",
      "metadata": {
        "execution": {
          "iopub.execute_input": "2024-06-17T23:59:09.959080Z",
          "iopub.status.busy": "2024-06-17T23:59:09.958820Z",
          "iopub.status.idle": "2024-06-17T23:59:09.963900Z",
          "shell.execute_reply": "2024-06-17T23:59:09.963146Z"
        },
        "papermill": {
          "duration": 0.011991,
          "end_time": "2024-06-17T23:59:09.965851",
          "exception": false,
          "start_time": "2024-06-17T23:59:09.953860",
          "status": "completed"
        },
        "tags": [],
        "id": "cd16f708"
      },
      "outputs": [],
      "source": [
        "push_to_hub = True\n",
        "hf_token = \"insert token\"\n",
        "hf_username = \"insert username\""
      ]
    },
    {
      "cell_type": "code",
      "execution_count": null,
      "id": "2a3805ff",
      "metadata": {
        "execution": {
          "iopub.execute_input": "2024-06-17T23:59:09.975820Z",
          "iopub.status.busy": "2024-06-17T23:59:09.975496Z",
          "iopub.status.idle": "2024-06-17T23:59:09.980932Z",
          "shell.execute_reply": "2024-06-17T23:59:09.980081Z"
        },
        "papermill": {
          "duration": 0.01265,
          "end_time": "2024-06-17T23:59:09.982817",
          "exception": false,
          "start_time": "2024-06-17T23:59:09.970167",
          "status": "completed"
        },
        "tags": [],
        "id": "2a3805ff"
      },
      "outputs": [],
      "source": [
        "learning_rate = 2e-4\n",
        "num_epochs = 1\n",
        "batch_size = 1\n",
        "block_size = 5\n",
        "trainer = \"sft\"\n",
        "warmup_ratio = 0.1\n",
        "weight_decay = 0.01\n",
        "gradient_accumulation = 4\n",
        "mixed_precision = \"fp16\"\n",
        "peft = True\n",
        "quantization = \"int4\"\n",
        "lora_r = 16\n",
        "lora_alpha = 32\n",
        "lora_dropout = 0.05"
      ]
    },
    {
      "cell_type": "code",
      "execution_count": null,
      "id": "4894abd8",
      "metadata": {
        "execution": {
          "iopub.execute_input": "2024-06-17T23:59:09.992689Z",
          "iopub.status.busy": "2024-06-17T23:59:09.992391Z",
          "iopub.status.idle": "2024-06-17T23:59:10.000876Z",
          "shell.execute_reply": "2024-06-17T23:59:10.000013Z"
        },
        "papermill": {
          "duration": 0.015575,
          "end_time": "2024-06-17T23:59:10.002772",
          "exception": false,
          "start_time": "2024-06-17T23:59:09.987197",
          "status": "completed"
        },
        "tags": [],
        "id": "4894abd8"
      },
      "outputs": [],
      "source": [
        "import os\n",
        "os.environ[\"PROJECT_NAME\"] = project_name\n",
        "os.environ[\"MODEL_NAME\"] = model_name\n",
        "os.environ[\"PUSH_TO_HUB\"] = str(push_to_hub)\n",
        "os.environ[\"HF_TOKEN\"] = hf_token\n",
        "os.environ[\"LEARNING_RATE\"] = str(learning_rate)\n",
        "os.environ[\"NUM_EPOCHS\"] = str(num_epochs)\n",
        "os.environ[\"BATCH_SIZE\"] = str(batch_size)\n",
        "os.environ[\"BLOCK_SIZE\"] = str(block_size)\n",
        "os.environ[\"WARMUP_RATIO\"] = str(warmup_ratio)\n",
        "os.environ[\"WEIGHT_DECAY\"] = str(weight_decay)\n",
        "os.environ[\"GRADIENT_ACCUMULATION\"] = str(gradient_accumulation)\n",
        "os.environ[\"MIXED_PRECISION\"] = str(mixed_precision)\n",
        "os.environ[\"PEFT\"] = str(peft)\n",
        "os.environ[\"QUANTIZATION\"] = str(quantization)\n",
        "os.environ[\"LORA_R\"] = str(lora_r)\n",
        "os.environ[\"LORA_ALPHA\"] = str(lora_alpha)\n",
        "os.environ[\"LORA_DROPOUT\"] = str(lora_dropout)\n",
        "os.environ[\"HF_USERNAME\"] = hf_username\n",
        "os.environ[\"TRAINER\"] = trainer"
      ]
    },
    {
      "cell_type": "code",
      "execution_count": null,
      "id": "6b590be3",
      "metadata": {
        "execution": {
          "iopub.execute_input": "2024-06-17T23:59:10.012331Z",
          "iopub.status.busy": "2024-06-17T23:59:10.012035Z",
          "iopub.status.idle": "2024-06-17T23:59:10.016556Z",
          "shell.execute_reply": "2024-06-17T23:59:10.015776Z"
        },
        "papermill": {
          "duration": 0.011658,
          "end_time": "2024-06-17T23:59:10.018666",
          "exception": false,
          "start_time": "2024-06-17T23:59:10.007008",
          "status": "completed"
        },
        "tags": [],
        "id": "6b590be3",
        "outputId": "8da20cdf-1237-43b7-f6b2-b3240c69be31"
      },
      "outputs": [
        {
          "name": "stdout",
          "output_type": "stream",
          "text": [
            "['trainingset', 'testwork']\n"
          ]
        }
      ],
      "source": [
        "import os\n",
        "print(os.listdir(\"../input\"))"
      ]
    },
    {
      "cell_type": "code",
      "execution_count": null,
      "id": "44c7559b",
      "metadata": {
        "execution": {
          "iopub.execute_input": "2024-06-17T23:59:10.028361Z",
          "iopub.status.busy": "2024-06-17T23:59:10.028083Z",
          "iopub.status.idle": "2024-06-18T00:00:01.795785Z",
          "shell.execute_reply": "2024-06-18T00:00:01.794552Z"
        },
        "papermill": {
          "duration": 51.77543,
          "end_time": "2024-06-18T00:00:01.798331",
          "exception": false,
          "start_time": "2024-06-17T23:59:10.022901",
          "status": "completed"
        },
        "tags": [],
        "id": "44c7559b"
      },
      "outputs": [],
      "source": [
        "!autotrain llm \\\n",
        "--train \\\n",
        "--model ${MODEL_NAME} \\\n",
        "--project-name ${PROJECT_NAME} \\\n",
        "--data-path /kaggle/input/testwork \\\n",
        "--text-column text \\\n",
        "--lr ${LEARNING_RATE} \\\n",
        "--batch-size ${BATCH_SIZE} \\\n",
        "--epochs ${NUM_EPOCHS} \\\n",
        "--block-size ${BLOCK_SIZE} \\\n",
        "--warmup-ratio ${WARMUP_RATIO} \\\n",
        "--lora-r ${LORA_R} \\\n",
        "--lora-alpha ${LORA_ALPHA} \\\n",
        "--lora-dropout ${LORA_DROPOUT} \\\n",
        "--weight-decay ${WEIGHT_DECAY} \\\n",
        "--gradient-accumulation ${GRADIENT_ACCUMULATION} \\\n",
        "--quantization ${QUANTIZATION} \\\n",
        "--mixed-precision ${MIXED_PRECISION} \\\n",
        "--username ${HF_USERNAME} \\\n",
        "--trainer ${TRAINER} \\\n",
        "$( [[ \"$PEFT\" == \"True\" ]] && echo \"--peft\" ) \\\n",
        "$( [[ \"$PUSH_TO_HUB\" == \"True\" ]] && echo \"--push-to-hub --token ${HF_TOKEN}\" )"
      ]
    },
    {
      "cell_type": "code",
      "execution_count": null,
      "id": "d20d28c4",
      "metadata": {
        "execution": {
          "iopub.execute_input": "2024-06-18T00:00:25.057226Z",
          "iopub.status.busy": "2024-06-18T00:00:25.056432Z",
          "iopub.status.idle": "2024-06-18T00:00:30.777364Z",
          "shell.execute_reply": "2024-06-18T00:00:30.776279Z"
        },
        "papermill": {
          "duration": 5.740831,
          "end_time": "2024-06-18T00:00:30.779669",
          "exception": false,
          "start_time": "2024-06-18T00:00:25.038838",
          "status": "completed"
        },
        "tags": [],
        "id": "d20d28c4"
      },
      "outputs": [],
      "source": [
        "from transformers import AutoModelForCausalLM, AutoTokenizer\n",
        "import torch\n",
        "\n",
        "model_path = \"insert model path\"\n",
        "\n",
        "# Load the tokenizer and model from the specified path\n",
        "tokenizer = AutoTokenizer.from_pretrained(model_path)\n",
        "model = AutoModelForCausalLM.from_pretrained(\n",
        "    model_path,\n",
        "    device_map=\"auto\",\n",
        "    torch_dtype='auto'\n",
        ").eval()\n",
        "\n",
        "# Define the user message with a refined prompt\n",
        "prompt = \"\"\"\n",
        "Write a concise git commit message for the following code change using this structure for the commit message:\n",
        "- A short, descriptive title\n",
        "- A more detailed description on a new line explaining:\n",
        "  - What has been changed\n",
        "  - Why the change was made\n",
        "  - Any additional context or relevant information:\n",
        "\n",
        "Use a professional tone, with a focus on clarity and completeness to improve understanding for future reference.\n",
        "\n",
        "Insert code change.\n",
        "\n",
        "Commit message:\n",
        "\"\"\"\n",
        "\n",
        "# Tokenize the prompt\n",
        "input_ids = tokenizer(prompt, return_tensors='pt')\n",
        "\n",
        "# Generate a response from the model\n",
        "input_ids = input_ids['input_ids'].to('cuda')\n",
        "output_ids = model.generate(input_ids, max_length=1000, temperature=0.7, top_p=0.9, num_return_sequences=1)\n",
        "response = tokenizer.decode(output_ids[0], skip_special_tokens=True)\n",
        "\n",
        "# Print the model's response\n",
        "print(\"Model response:\", response.strip())\n"
      ]
    }
  ],
  "metadata": {
    "kaggle": {
      "accelerator": "gpu",
      "dataSources": [
        {
          "datasetId": 5223709,
          "sourceId": 8708354,
          "sourceType": "datasetVersion"
        },
        {
          "datasetId": 5223784,
          "sourceId": 8708470,
          "sourceType": "datasetVersion"
        }
      ],
      "dockerImageVersionId": 30733,
      "isGpuEnabled": true,
      "isInternetEnabled": true,
      "language": "python",
      "sourceType": "notebook"
    },
    "kernelspec": {
      "display_name": "Python 3",
      "language": "python",
      "name": "python3"
    },
    "language_info": {
      "codemirror_mode": {
        "name": "ipython",
        "version": 3
      },
      "file_extension": ".py",
      "mimetype": "text/x-python",
      "name": "python",
      "nbconvert_exporter": "python",
      "pygments_lexer": "ipython3",
      "version": "3.10.13"
    },
    "papermill": {
      "default_parameters": {},
      "duration": 324.333141,
      "end_time": "2024-06-18T00:00:32.120957",
      "environment_variables": {},
      "exception": null,
      "input_path": "__notebook__.ipynb",
      "output_path": "__notebook__.ipynb",
      "parameters": {},
      "start_time": "2024-06-17T23:55:07.787816",
      "version": "2.5.0"
    },
    "colab": {
      "provenance": []
    }
  },
  "nbformat": 4,
  "nbformat_minor": 5
}